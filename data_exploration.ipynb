{
 "cells": [
  {
   "cell_type": "code",
   "execution_count": 1,
   "metadata": {},
   "outputs": [],
   "source": [
    "%matplotlib inline"
   ]
  },
  {
   "cell_type": "code",
   "execution_count": 2,
   "metadata": {},
   "outputs": [],
   "source": [
    "import pandas as pd"
   ]
  },
  {
   "cell_type": "code",
   "execution_count": 3,
   "metadata": {},
   "outputs": [],
   "source": [
    "df = pd.read_csv('data/ORtg_combined_ratings.csv', index_col=0)"
   ]
  },
  {
   "cell_type": "code",
   "execution_count": 4,
   "metadata": {},
   "outputs": [
    {
     "data": {
      "text/html": [
       "<div>\n",
       "<style scoped>\n",
       "    .dataframe tbody tr th:only-of-type {\n",
       "        vertical-align: middle;\n",
       "    }\n",
       "\n",
       "    .dataframe tbody tr th {\n",
       "        vertical-align: top;\n",
       "    }\n",
       "\n",
       "    .dataframe thead th {\n",
       "        text-align: right;\n",
       "    }\n",
       "</style>\n",
       "<table border=\"1\" class=\"dataframe\">\n",
       "  <thead>\n",
       "    <tr style=\"text-align: right;\">\n",
       "      <th></th>\n",
       "      <th>oORtg+_ytd</th>\n",
       "      <th>team_2</th>\n",
       "      <th>GP_ytd</th>\n",
       "      <th>oORtg+_f</th>\n",
       "      <th>GP_f</th>\n",
       "      <th>oORtg+_lastYear</th>\n",
       "      <th>GP</th>\n",
       "      <th>date</th>\n",
       "      <th>season_ytd</th>\n",
       "      <th>dORtg+_ytd</th>\n",
       "      <th>dORtg+_f</th>\n",
       "      <th>dORtg+_lastYear</th>\n",
       "      <th>nextDay_id</th>\n",
       "      <th>Lg</th>\n",
       "      <th>oORtg+_ros</th>\n",
       "      <th>dORtg+_ros</th>\n",
       "    </tr>\n",
       "  </thead>\n",
       "  <tbody>\n",
       "    <tr>\n",
       "      <th>0</th>\n",
       "      <td>5.385517</td>\n",
       "      <td>SAC2003</td>\n",
       "      <td>1</td>\n",
       "      <td>2.008209</td>\n",
       "      <td>82.0</td>\n",
       "      <td>4.14876</td>\n",
       "      <td>82.0</td>\n",
       "      <td>2002-10-29</td>\n",
       "      <td>2003</td>\n",
       "      <td>-7.285375</td>\n",
       "      <td>-5.047912</td>\n",
       "      <td>-3.85601</td>\n",
       "      <td>20021030SAC</td>\n",
       "      <td>87.870750</td>\n",
       "      <td>1.966514</td>\n",
       "      <td>-5.020289</td>\n",
       "    </tr>\n",
       "    <tr>\n",
       "      <th>1</th>\n",
       "      <td>-0.212275</td>\n",
       "      <td>SAC2003</td>\n",
       "      <td>1</td>\n",
       "      <td>2.008209</td>\n",
       "      <td>82.0</td>\n",
       "      <td>4.14876</td>\n",
       "      <td>82.0</td>\n",
       "      <td>2002-10-30</td>\n",
       "      <td>2003</td>\n",
       "      <td>-20.786079</td>\n",
       "      <td>-5.047912</td>\n",
       "      <td>-3.85601</td>\n",
       "      <td>20021031SAC</td>\n",
       "      <td>96.288559</td>\n",
       "      <td>2.035622</td>\n",
       "      <td>-4.853614</td>\n",
       "    </tr>\n",
       "    <tr>\n",
       "      <th>2</th>\n",
       "      <td>-1.792378</td>\n",
       "      <td>SAC2003</td>\n",
       "      <td>2</td>\n",
       "      <td>2.008209</td>\n",
       "      <td>82.0</td>\n",
       "      <td>4.14876</td>\n",
       "      <td>82.0</td>\n",
       "      <td>2002-10-31</td>\n",
       "      <td>2003</td>\n",
       "      <td>-24.971032</td>\n",
       "      <td>-5.047912</td>\n",
       "      <td>-3.85601</td>\n",
       "      <td>20021101SAC</td>\n",
       "      <td>96.517175</td>\n",
       "      <td>2.103223</td>\n",
       "      <td>-4.549834</td>\n",
       "    </tr>\n",
       "    <tr>\n",
       "      <th>3</th>\n",
       "      <td>30.303377</td>\n",
       "      <td>SAC2003</td>\n",
       "      <td>2</td>\n",
       "      <td>2.008209</td>\n",
       "      <td>82.0</td>\n",
       "      <td>4.14876</td>\n",
       "      <td>82.0</td>\n",
       "      <td>2002-11-01</td>\n",
       "      <td>2003</td>\n",
       "      <td>-46.706502</td>\n",
       "      <td>-5.047912</td>\n",
       "      <td>-3.85601</td>\n",
       "      <td>20021102SAC</td>\n",
       "      <td>96.008131</td>\n",
       "      <td>1.300830</td>\n",
       "      <td>-4.006447</td>\n",
       "    </tr>\n",
       "    <tr>\n",
       "      <th>4</th>\n",
       "      <td>-2.641305</td>\n",
       "      <td>SAC2003</td>\n",
       "      <td>3</td>\n",
       "      <td>2.008209</td>\n",
       "      <td>82.0</td>\n",
       "      <td>4.14876</td>\n",
       "      <td>82.0</td>\n",
       "      <td>2002-11-02</td>\n",
       "      <td>2003</td>\n",
       "      <td>-11.757959</td>\n",
       "      <td>-5.047912</td>\n",
       "      <td>-3.85601</td>\n",
       "      <td>20021103SAC</td>\n",
       "      <td>97.422787</td>\n",
       "      <td>2.184773</td>\n",
       "      <td>-4.793100</td>\n",
       "    </tr>\n",
       "  </tbody>\n",
       "</table>\n",
       "</div>"
      ],
      "text/plain": [
       "   oORtg+_ytd   team_2  GP_ytd  oORtg+_f  GP_f  oORtg+_lastYear    GP  \\\n",
       "0    5.385517  SAC2003       1  2.008209  82.0          4.14876  82.0   \n",
       "1   -0.212275  SAC2003       1  2.008209  82.0          4.14876  82.0   \n",
       "2   -1.792378  SAC2003       2  2.008209  82.0          4.14876  82.0   \n",
       "3   30.303377  SAC2003       2  2.008209  82.0          4.14876  82.0   \n",
       "4   -2.641305  SAC2003       3  2.008209  82.0          4.14876  82.0   \n",
       "\n",
       "         date  season_ytd  dORtg+_ytd  dORtg+_f  dORtg+_lastYear   nextDay_id  \\\n",
       "0  2002-10-29        2003   -7.285375 -5.047912         -3.85601  20021030SAC   \n",
       "1  2002-10-30        2003  -20.786079 -5.047912         -3.85601  20021031SAC   \n",
       "2  2002-10-31        2003  -24.971032 -5.047912         -3.85601  20021101SAC   \n",
       "3  2002-11-01        2003  -46.706502 -5.047912         -3.85601  20021102SAC   \n",
       "4  2002-11-02        2003  -11.757959 -5.047912         -3.85601  20021103SAC   \n",
       "\n",
       "          Lg  oORtg+_ros  dORtg+_ros  \n",
       "0  87.870750    1.966514   -5.020289  \n",
       "1  96.288559    2.035622   -4.853614  \n",
       "2  96.517175    2.103223   -4.549834  \n",
       "3  96.008131    1.300830   -4.006447  \n",
       "4  97.422787    2.184773   -4.793100  "
      ]
     },
     "execution_count": 4,
     "metadata": {},
     "output_type": "execute_result"
    }
   ],
   "source": [
    "df.head()"
   ]
  },
  {
   "cell_type": "code",
   "execution_count": 5,
   "metadata": {},
   "outputs": [
    {
     "data": {
      "text/plain": [
       "(74565, 16)"
      ]
     },
     "execution_count": 5,
     "metadata": {},
     "output_type": "execute_result"
    }
   ],
   "source": [
    "df.shape"
   ]
  },
  {
   "cell_type": "code",
   "execution_count": 6,
   "metadata": {},
   "outputs": [
    {
     "name": "stdout",
     "output_type": "stream",
     "text": [
      "<class 'pandas.core.frame.DataFrame'>\n",
      "Int64Index: 74565 entries, 0 to 75065\n",
      "Data columns (total 16 columns):\n",
      "oORtg+_ytd         74565 non-null float64\n",
      "team_2             74565 non-null object\n",
      "GP_ytd             74565 non-null int64\n",
      "oORtg+_f           74565 non-null float64\n",
      "GP_f               74565 non-null float64\n",
      "oORtg+_lastYear    74565 non-null float64\n",
      "GP                 74565 non-null float64\n",
      "date               74565 non-null object\n",
      "season_ytd         74565 non-null int64\n",
      "dORtg+_ytd         74565 non-null float64\n",
      "dORtg+_f           74565 non-null float64\n",
      "dORtg+_lastYear    74565 non-null float64\n",
      "nextDay_id         74565 non-null object\n",
      "Lg                 74565 non-null float64\n",
      "oORtg+_ros         74565 non-null float64\n",
      "dORtg+_ros         74565 non-null float64\n",
      "dtypes: float64(11), int64(2), object(3)\n",
      "memory usage: 9.7+ MB\n"
     ]
    }
   ],
   "source": [
    "df.info()"
   ]
  },
  {
   "cell_type": "code",
   "execution_count": 7,
   "metadata": {},
   "outputs": [],
   "source": [
    "sac03 = df[df.team_2=='SAC2003']"
   ]
  },
  {
   "cell_type": "code",
   "execution_count": 8,
   "metadata": {},
   "outputs": [
    {
     "data": {
      "text/html": [
       "<div>\n",
       "<style scoped>\n",
       "    .dataframe tbody tr th:only-of-type {\n",
       "        vertical-align: middle;\n",
       "    }\n",
       "\n",
       "    .dataframe tbody tr th {\n",
       "        vertical-align: top;\n",
       "    }\n",
       "\n",
       "    .dataframe thead th {\n",
       "        text-align: right;\n",
       "    }\n",
       "</style>\n",
       "<table border=\"1\" class=\"dataframe\">\n",
       "  <thead>\n",
       "    <tr style=\"text-align: right;\">\n",
       "      <th></th>\n",
       "      <th>oORtg+_ytd</th>\n",
       "      <th>team_2</th>\n",
       "      <th>GP_ytd</th>\n",
       "      <th>oORtg+_f</th>\n",
       "      <th>GP_f</th>\n",
       "      <th>oORtg+_lastYear</th>\n",
       "      <th>GP</th>\n",
       "      <th>date</th>\n",
       "      <th>season_ytd</th>\n",
       "      <th>dORtg+_ytd</th>\n",
       "      <th>dORtg+_f</th>\n",
       "      <th>dORtg+_lastYear</th>\n",
       "      <th>nextDay_id</th>\n",
       "      <th>Lg</th>\n",
       "      <th>oORtg+_ros</th>\n",
       "      <th>dORtg+_ros</th>\n",
       "    </tr>\n",
       "  </thead>\n",
       "  <tbody>\n",
       "    <tr>\n",
       "      <th>0</th>\n",
       "      <td>5.385517</td>\n",
       "      <td>SAC2003</td>\n",
       "      <td>1</td>\n",
       "      <td>2.008209</td>\n",
       "      <td>82.0</td>\n",
       "      <td>4.14876</td>\n",
       "      <td>82.0</td>\n",
       "      <td>2002-10-29</td>\n",
       "      <td>2003</td>\n",
       "      <td>-7.285375</td>\n",
       "      <td>-5.047912</td>\n",
       "      <td>-3.85601</td>\n",
       "      <td>20021030SAC</td>\n",
       "      <td>87.870750</td>\n",
       "      <td>1.966514</td>\n",
       "      <td>-5.020289</td>\n",
       "    </tr>\n",
       "    <tr>\n",
       "      <th>1</th>\n",
       "      <td>-0.212275</td>\n",
       "      <td>SAC2003</td>\n",
       "      <td>1</td>\n",
       "      <td>2.008209</td>\n",
       "      <td>82.0</td>\n",
       "      <td>4.14876</td>\n",
       "      <td>82.0</td>\n",
       "      <td>2002-10-30</td>\n",
       "      <td>2003</td>\n",
       "      <td>-20.786079</td>\n",
       "      <td>-5.047912</td>\n",
       "      <td>-3.85601</td>\n",
       "      <td>20021031SAC</td>\n",
       "      <td>96.288559</td>\n",
       "      <td>2.035622</td>\n",
       "      <td>-4.853614</td>\n",
       "    </tr>\n",
       "    <tr>\n",
       "      <th>2</th>\n",
       "      <td>-1.792378</td>\n",
       "      <td>SAC2003</td>\n",
       "      <td>2</td>\n",
       "      <td>2.008209</td>\n",
       "      <td>82.0</td>\n",
       "      <td>4.14876</td>\n",
       "      <td>82.0</td>\n",
       "      <td>2002-10-31</td>\n",
       "      <td>2003</td>\n",
       "      <td>-24.971032</td>\n",
       "      <td>-5.047912</td>\n",
       "      <td>-3.85601</td>\n",
       "      <td>20021101SAC</td>\n",
       "      <td>96.517175</td>\n",
       "      <td>2.103223</td>\n",
       "      <td>-4.549834</td>\n",
       "    </tr>\n",
       "    <tr>\n",
       "      <th>3</th>\n",
       "      <td>30.303377</td>\n",
       "      <td>SAC2003</td>\n",
       "      <td>2</td>\n",
       "      <td>2.008209</td>\n",
       "      <td>82.0</td>\n",
       "      <td>4.14876</td>\n",
       "      <td>82.0</td>\n",
       "      <td>2002-11-01</td>\n",
       "      <td>2003</td>\n",
       "      <td>-46.706502</td>\n",
       "      <td>-5.047912</td>\n",
       "      <td>-3.85601</td>\n",
       "      <td>20021102SAC</td>\n",
       "      <td>96.008131</td>\n",
       "      <td>1.300830</td>\n",
       "      <td>-4.006447</td>\n",
       "    </tr>\n",
       "    <tr>\n",
       "      <th>4</th>\n",
       "      <td>-2.641305</td>\n",
       "      <td>SAC2003</td>\n",
       "      <td>3</td>\n",
       "      <td>2.008209</td>\n",
       "      <td>82.0</td>\n",
       "      <td>4.14876</td>\n",
       "      <td>82.0</td>\n",
       "      <td>2002-11-02</td>\n",
       "      <td>2003</td>\n",
       "      <td>-11.757959</td>\n",
       "      <td>-5.047912</td>\n",
       "      <td>-3.85601</td>\n",
       "      <td>20021103SAC</td>\n",
       "      <td>97.422787</td>\n",
       "      <td>2.184773</td>\n",
       "      <td>-4.793100</td>\n",
       "    </tr>\n",
       "  </tbody>\n",
       "</table>\n",
       "</div>"
      ],
      "text/plain": [
       "   oORtg+_ytd   team_2  GP_ytd  oORtg+_f  GP_f  oORtg+_lastYear    GP  \\\n",
       "0    5.385517  SAC2003       1  2.008209  82.0          4.14876  82.0   \n",
       "1   -0.212275  SAC2003       1  2.008209  82.0          4.14876  82.0   \n",
       "2   -1.792378  SAC2003       2  2.008209  82.0          4.14876  82.0   \n",
       "3   30.303377  SAC2003       2  2.008209  82.0          4.14876  82.0   \n",
       "4   -2.641305  SAC2003       3  2.008209  82.0          4.14876  82.0   \n",
       "\n",
       "         date  season_ytd  dORtg+_ytd  dORtg+_f  dORtg+_lastYear   nextDay_id  \\\n",
       "0  2002-10-29        2003   -7.285375 -5.047912         -3.85601  20021030SAC   \n",
       "1  2002-10-30        2003  -20.786079 -5.047912         -3.85601  20021031SAC   \n",
       "2  2002-10-31        2003  -24.971032 -5.047912         -3.85601  20021101SAC   \n",
       "3  2002-11-01        2003  -46.706502 -5.047912         -3.85601  20021102SAC   \n",
       "4  2002-11-02        2003  -11.757959 -5.047912         -3.85601  20021103SAC   \n",
       "\n",
       "          Lg  oORtg+_ros  dORtg+_ros  \n",
       "0  87.870750    1.966514   -5.020289  \n",
       "1  96.288559    2.035622   -4.853614  \n",
       "2  96.517175    2.103223   -4.549834  \n",
       "3  96.008131    1.300830   -4.006447  \n",
       "4  97.422787    2.184773   -4.793100  "
      ]
     },
     "execution_count": 8,
     "metadata": {},
     "output_type": "execute_result"
    }
   ],
   "source": [
    "sac03.head()"
   ]
  },
  {
   "cell_type": "code",
   "execution_count": 9,
   "metadata": {},
   "outputs": [
    {
     "data": {
      "text/plain": [
       "array(['SAC2003'], dtype=object)"
      ]
     },
     "execution_count": 9,
     "metadata": {},
     "output_type": "execute_result"
    }
   ],
   "source": [
    "sac03.team_2.unique()"
   ]
  },
  {
   "cell_type": "code",
   "execution_count": 10,
   "metadata": {},
   "outputs": [
    {
     "data": {
      "text/plain": [
       "(163, 16)"
      ]
     },
     "execution_count": 10,
     "metadata": {},
     "output_type": "execute_result"
    }
   ],
   "source": [
    "sac03.shape"
   ]
  },
  {
   "cell_type": "code",
   "execution_count": 13,
   "metadata": {
    "scrolled": true
   },
   "outputs": [
    {
     "data": {
      "text/plain": [
       "<matplotlib.axes._subplots.AxesSubplot at 0x220c1fe4f28>"
      ]
     },
     "execution_count": 13,
     "metadata": {},
     "output_type": "execute_result"
    },
    {
     "data": {
      "image/png": "[encoded data removed]",
      "text/plain": [
       "<Figure size 432x288 with 1 Axes>"
      ]
     },
     "metadata": {
      "needs_background": "light"
     },
     "output_type": "display_data"
    }
   ],
   "source": [
    "sac03['oORtg+_ytd'].plot(color='blue')\n",
    "sac03['oORtg+_ros'].plot(color='red')\n",
    "sac03['oORtg+_lastYear'].plot(color='green')"
   ]
  },
  {
   "cell_type": "code",
   "execution_count": 14,
   "metadata": {},
   "outputs": [],
   "source": [
    "cols_to_keep = ['oORtg+_ytd', 'GP_ytd', 'GP_f', 'oORtg+_lastYear', 'oORtg+_ros']\n",
    "sac03 = sac03[cols_to_keep]"
   ]
  },
  {
   "cell_type": "code",
   "execution_count": 16,
   "metadata": {},
   "outputs": [],
   "source": [
    "sac03 = sac03.rename(columns={'oORtg+_ytd':'oortg_ytd', 'oORtg+_lastYear':'oortg_ly', 'oORtg+_ros':'oortg_ros'})"
   ]
  },
  {
   "cell_type": "code",
   "execution_count": 17,
   "metadata": {},
   "outputs": [
    {
     "data": {
      "text/html": [
       "<div>\n",
       "<style scoped>\n",
       "    .dataframe tbody tr th:only-of-type {\n",
       "        vertical-align: middle;\n",
       "    }\n",
       "\n",
       "    .dataframe tbody tr th {\n",
       "        vertical-align: top;\n",
       "    }\n",
       "\n",
       "    .dataframe thead th {\n",
       "        text-align: right;\n",
       "    }\n",
       "</style>\n",
       "<table border=\"1\" class=\"dataframe\">\n",
       "  <thead>\n",
       "    <tr style=\"text-align: right;\">\n",
       "      <th></th>\n",
       "      <th>oortg_ytd</th>\n",
       "      <th>GP_ytd</th>\n",
       "      <th>GP_f</th>\n",
       "      <th>oortg_ly</th>\n",
       "      <th>oortg_ros</th>\n",
       "    </tr>\n",
       "  </thead>\n",
       "  <tbody>\n",
       "    <tr>\n",
       "      <th>0</th>\n",
       "      <td>5.385517</td>\n",
       "      <td>1</td>\n",
       "      <td>82.0</td>\n",
       "      <td>4.14876</td>\n",
       "      <td>1.966514</td>\n",
       "    </tr>\n",
       "    <tr>\n",
       "      <th>1</th>\n",
       "      <td>-0.212275</td>\n",
       "      <td>1</td>\n",
       "      <td>82.0</td>\n",
       "      <td>4.14876</td>\n",
       "      <td>2.035622</td>\n",
       "    </tr>\n",
       "    <tr>\n",
       "      <th>2</th>\n",
       "      <td>-1.792378</td>\n",
       "      <td>2</td>\n",
       "      <td>82.0</td>\n",
       "      <td>4.14876</td>\n",
       "      <td>2.103223</td>\n",
       "    </tr>\n",
       "    <tr>\n",
       "      <th>3</th>\n",
       "      <td>30.303377</td>\n",
       "      <td>2</td>\n",
       "      <td>82.0</td>\n",
       "      <td>4.14876</td>\n",
       "      <td>1.300830</td>\n",
       "    </tr>\n",
       "    <tr>\n",
       "      <th>4</th>\n",
       "      <td>-2.641305</td>\n",
       "      <td>3</td>\n",
       "      <td>82.0</td>\n",
       "      <td>4.14876</td>\n",
       "      <td>2.184773</td>\n",
       "    </tr>\n",
       "  </tbody>\n",
       "</table>\n",
       "</div>"
      ],
      "text/plain": [
       "   oortg_ytd  GP_ytd  GP_f  oortg_ly  oortg_ros\n",
       "0   5.385517       1  82.0   4.14876   1.966514\n",
       "1  -0.212275       1  82.0   4.14876   2.035622\n",
       "2  -1.792378       2  82.0   4.14876   2.103223\n",
       "3  30.303377       2  82.0   4.14876   1.300830\n",
       "4  -2.641305       3  82.0   4.14876   2.184773"
      ]
     },
     "execution_count": 17,
     "metadata": {},
     "output_type": "execute_result"
    }
   ],
   "source": [
    "sac03.head()"
   ]
  },
  {
   "cell_type": "code",
   "execution_count": 18,
   "metadata": {},
   "outputs": [],
   "source": [
    "targ = sac03.oortg_ros\n",
    "sac03.drop('oortg_ros', axis=1, inplace=True)"
   ]
  },
  {
   "cell_type": "code",
   "execution_count": 20,
   "metadata": {},
   "outputs": [],
   "source": [
    "def mse(pred, targ): return (pred-targ).pow(2).mean()"
   ]
  },
  {
   "cell_type": "code",
   "execution_count": 21,
   "metadata": {},
   "outputs": [],
   "source": [
    "def last_year(x): return x['oortg_ly']"
   ]
  },
  {
   "cell_type": "code",
   "execution_count": 22,
   "metadata": {},
   "outputs": [
    {
     "data": {
      "text/plain": [
       "3.884862893095265"
      ]
     },
     "execution_count": 22,
     "metadata": {},
     "output_type": "execute_result"
    }
   ],
   "source": [
    "ly = last_year(sac03)\n",
    "mse(ly, targ)"
   ]
  },
  {
   "cell_type": "code",
   "execution_count": 23,
   "metadata": {},
   "outputs": [],
   "source": [
    "def this_year(x): return x['oortg_ytd']"
   ]
  },
  {
   "cell_type": "code",
   "execution_count": 26,
   "metadata": {},
   "outputs": [
    {
     "data": {
      "text/plain": [
       "9.59181741935323"
      ]
     },
     "execution_count": 26,
     "metadata": {},
     "output_type": "execute_result"
    }
   ],
   "source": [
    "ty = this_year(sac03)\n",
    "mse(ty, targ)"
   ]
  },
  {
   "cell_type": "code",
   "execution_count": 27,
   "metadata": {},
   "outputs": [],
   "source": [
    "def weighted_avg(x):\n",
    "    p = (x['GP_ytd']/x['GP_f'])\n",
    "    return x['oortg_ytd']*p + x['oortg_ly']*(1-p)"
   ]
  },
  {
   "cell_type": "code",
   "execution_count": 28,
   "metadata": {},
   "outputs": [],
   "source": [
    "wa = weighted_avg(sac03)"
   ]
  },
  {
   "cell_type": "code",
   "execution_count": 32,
   "metadata": {},
   "outputs": [
    {
     "data": {
      "text/plain": [
       "1.5365816550003695"
      ]
     },
     "execution_count": 32,
     "metadata": {},
     "output_type": "execute_result"
    }
   ],
   "source": [
    "mse(wa, targ)"
   ]
  },
  {
   "cell_type": "code",
   "execution_count": 34,
   "metadata": {},
   "outputs": [
    {
     "data": {
      "text/plain": [
       "<matplotlib.axes._subplots.AxesSubplot at 0x220c2894198>"
      ]
     },
     "execution_count": 34,
     "metadata": {},
     "output_type": "execute_result"
    },
    {
     "data": {
      "image/png": "[encoded data removed]",
      "text/plain": [
       "<Figure size 432x288 with 1 Axes>"
      ]
     },
     "metadata": {
      "needs_background": "light"
     },
     "output_type": "display_data"
    }
   ],
   "source": [
    "all_preds = pd.DataFrame({'target':targ, 'last year':ly, 'this year':ty, 'weighted average':wa})\n",
    "all_preds.plot()"
   ]
  },
  {
   "cell_type": "code",
   "execution_count": null,
   "metadata": {},
   "outputs": [],
   "source": []
  }
 ],
 "metadata": {
  "kernelspec": {
   "display_name": "Python 3",
   "language": "python",
   "name": "python3"
  },
  "language_info": {
   "codemirror_mode": {
    "name": "ipython",
    "version": 3
   },
   "file_extension": ".py",
   "mimetype": "text/x-python",
   "name": "python",
   "nbconvert_exporter": "python",
   "pygments_lexer": "ipython3",
   "version": "3.6.8"
  }
 },
 "nbformat": 4,
 "nbformat_minor": 2
}
